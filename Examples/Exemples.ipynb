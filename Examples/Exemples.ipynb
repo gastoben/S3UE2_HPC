{
 "cells": [
  {
   "cell_type": "code",
   "execution_count": null,
   "id": "cac098e3-3b41-4338-a780-1da49b43bcef",
   "metadata": {},
   "outputs": [],
   "source": [
    "import numpy as np"
   ]
  },
  {
   "cell_type": "code",
   "execution_count": null,
   "id": "8667ee03-5acf-45c8-bc5e-83176641b029",
   "metadata": {},
   "outputs": [],
   "source": [
    "def prod_0(tabx, taby):\n",
    "    res =[]\n",
    "    for a,b in zip(tabx, taby):\n",
    "        res.append(a * b)\n",
    "    return np.array(res)"
   ]
  },
  {
   "cell_type": "code",
   "execution_count": null,
   "id": "53ceec43-8bab-4470-af7a-5516de278804",
   "metadata": {
    "tags": []
   },
   "outputs": [],
   "source": [
    "def prod_1(tabx, taby):\n",
    "    return np.array([a * b for a,b in zip(tabx, taby)])"
   ]
  },
  {
   "cell_type": "code",
   "execution_count": null,
   "id": "842ef60a-aab8-447a-ac0c-77f09d9ec2c2",
   "metadata": {},
   "outputs": [],
   "source": [
    "import random as rd\n",
    "l_A = [rd.random() for i in range(1000000)]\n",
    "l_B = [rd.random() for i in range(1000000)]\n",
    "%time prod_0(l_A, l_B)"
   ]
  },
  {
   "cell_type": "code",
   "execution_count": null,
   "id": "a1f6ab05-9268-46ea-b58d-e816424c0168",
   "metadata": {},
   "outputs": [],
   "source": [
    "%timeit prod_0(l_A, l_B)"
   ]
  },
  {
   "cell_type": "markdown",
   "id": "65e2d63b-9678-4fad-a723-b8ed3e577cf4",
   "metadata": {},
   "source": [
    "# profiling"
   ]
  },
  {
   "cell_type": "code",
   "execution_count": null,
   "id": "c613d563-df6f-4f5a-b1d4-1ec7c6810e1d",
   "metadata": {},
   "outputs": [],
   "source": [
    "import cProfile"
   ]
  },
  {
   "cell_type": "code",
   "execution_count": null,
   "id": "567c7669-49fa-43db-a78e-53366bbf617b",
   "metadata": {},
   "outputs": [],
   "source": [
    "from fibo import fib_rec as fib"
   ]
  },
  {
   "cell_type": "code",
   "execution_count": null,
   "id": "7bacb3bc-6efa-4033-96dd-404723cf4759",
   "metadata": {},
   "outputs": [],
   "source": [
    "cProfile.run('fib(30)')"
   ]
  },
  {
   "cell_type": "markdown",
   "id": "74287dec-69de-4363-9100-10ff3757b391",
   "metadata": {},
   "source": [
    "## `line_profiler`\n",
    "* https://github.com/pyutils/line_profiler"
   ]
  },
  {
   "cell_type": "code",
   "execution_count": null,
   "id": "e05bf3b3-a490-450b-8253-a3cf419da03d",
   "metadata": {},
   "outputs": [],
   "source": [
    "%load_ext line_profiler"
   ]
  },
  {
   "cell_type": "code",
   "execution_count": null,
   "id": "3d6f514d-0244-4aa5-9f53-ed4446f33311",
   "metadata": {},
   "outputs": [],
   "source": [
    "%lprun -f prod_0 prod_0(l_A,l_B)"
   ]
  },
  {
   "cell_type": "markdown",
   "id": "b89568c7-c786-498a-bf2c-ab1365081f80",
   "metadata": {},
   "source": [
    "## `memory_profiler`\n",
    "* https://github.com/pythonprofilers/memory_profiler"
   ]
  },
  {
   "cell_type": "code",
   "execution_count": null,
   "id": "efe0d8b9-d6af-4fd4-97c5-8b3ae23eb1b8",
   "metadata": {},
   "outputs": [],
   "source": [
    "%load_ext memory_profiler"
   ]
  },
  {
   "cell_type": "code",
   "execution_count": null,
   "id": "d46b8b7e-7c1d-44af-8cc1-f085a781447c",
   "metadata": {},
   "outputs": [],
   "source": [
    "import test_mp"
   ]
  },
  {
   "cell_type": "code",
   "execution_count": null,
   "id": "dc91147e-09db-46a8-b7d3-f5ed14383217",
   "metadata": {},
   "outputs": [],
   "source": [
    "%mprun -f test_mp.my_func test_mp.my_func()"
   ]
  },
  {
   "cell_type": "markdown",
   "id": "1c11e3dc-7e4e-4d74-8313-11a4a94f2846",
   "metadata": {},
   "source": [
    "# Slow Python"
   ]
  },
  {
   "cell_type": "markdown",
   "id": "5a272409-bac0-4d86-a5c7-7017e6869367",
   "metadata": {},
   "source": [
    "## C"
   ]
  },
  {
   "cell_type": "code",
   "execution_count": null,
   "id": "5b9b83d8-7232-4cde-8730-ed4c63deec22",
   "metadata": {},
   "outputs": [],
   "source": [
    "!gcc -O3 -std=gnu99 vbyv.c"
   ]
  },
  {
   "cell_type": "code",
   "execution_count": null,
   "id": "2e4254e0-5215-451a-a80b-b84465e32dc0",
   "metadata": {},
   "outputs": [],
   "source": [
    "!./a.out 1000000"
   ]
  },
  {
   "cell_type": "markdown",
   "id": "4dc9474f-bad6-4495-a7d8-881021a57d8e",
   "metadata": {},
   "source": [
    "## Pure Python"
   ]
  },
  {
   "cell_type": "code",
   "execution_count": null,
   "id": "5e220d3b-fd20-47d9-9bff-65aa4f55cb15",
   "metadata": {},
   "outputs": [],
   "source": [
    "%timeit prod_0(l_A, l_B)\n",
    "%timeit prod_1(l_A, l_B)"
   ]
  },
  {
   "cell_type": "markdown",
   "id": "d5ecd4b2-6d11-41b4-9235-d392191d04b1",
   "metadata": {},
   "source": [
    "## Numpy"
   ]
  },
  {
   "cell_type": "code",
   "execution_count": null,
   "id": "94e51858-7caa-474a-9631-05c253fa8d9f",
   "metadata": {},
   "outputs": [],
   "source": [
    "v_A = np.array(l_A)\n",
    "v_B = np.array(l_B)\n",
    "%timeit v_A * v_B"
   ]
  },
  {
   "cell_type": "code",
   "execution_count": null,
   "id": "32bb491f-9701-410a-9c0a-12e18d5f39ca",
   "metadata": {},
   "outputs": [],
   "source": [
    "%timeit prod_0(v_A, v_B)\n",
    "%timeit prod_1(v_A, v_B)"
   ]
  },
  {
   "cell_type": "markdown",
   "id": "2ddb1906-adac-471b-9545-7eae012666c8",
   "metadata": {},
   "source": [
    "## Another example"
   ]
  },
  {
   "cell_type": "code",
   "execution_count": null,
   "id": "46519cc4-c81d-42c1-96c1-33a35cc0d465",
   "metadata": {},
   "outputs": [],
   "source": [
    "!gcc -O3 -std=gnu99 integrate_f_c.c -o integrate_c.exe"
   ]
  },
  {
   "cell_type": "code",
   "execution_count": null,
   "id": "673cb095-7871-4b1b-914d-c84628509615",
   "metadata": {},
   "outputs": [],
   "source": [
    "!./integrate_c.exe -1 1 10000"
   ]
  },
  {
   "cell_type": "code",
   "execution_count": null,
   "id": "db935d30-37b6-4cfa-871d-0ae17b8a6091",
   "metadata": {},
   "outputs": [],
   "source": [
    "from integrate_f_py import integrate_f_py as py_integrate"
   ]
  },
  {
   "cell_type": "code",
   "execution_count": null,
   "id": "8f833b1a-0dfd-4e08-99a0-f8fcbaeb1f26",
   "metadata": {},
   "outputs": [],
   "source": [
    "%timeit py_integrate(-1,1,10000)"
   ]
  },
  {
   "cell_type": "markdown",
   "id": "8cc50907-419c-45e6-998f-5ae621cc245a",
   "metadata": {},
   "source": [
    "---\n",
    "# compilation"
   ]
  },
  {
   "cell_type": "markdown",
   "id": "684c0791-10a7-4608-8ab3-79ec244a2433",
   "metadata": {},
   "source": [
    "---\n",
    "## Cython\n",
    "<img src=\"images/cython.png\" alt=\"Cython\" width=\"200\"/>\n",
    "\n",
    "* https://cython.org/"
   ]
  },
  {
   "cell_type": "code",
   "execution_count": null,
   "id": "96e95a28-1144-4069-bbef-0f39c38a9f80",
   "metadata": {},
   "outputs": [],
   "source": [
    "from integrate_f_py import integrate_f_py as py_integrate"
   ]
  },
  {
   "cell_type": "code",
   "execution_count": null,
   "id": "05e75c52-0288-4c33-b8d6-2bfd4060803c",
   "metadata": {},
   "outputs": [],
   "source": [
    "%timeit py_integrate(-1,1,10000)"
   ]
  },
  {
   "cell_type": "code",
   "execution_count": null,
   "id": "100056fe-ee16-4739-80f8-e2f617498365",
   "metadata": {},
   "outputs": [],
   "source": [
    "!cp integrate_f_py.py integrate_f_cy.pyx"
   ]
  },
  {
   "cell_type": "code",
   "execution_count": null,
   "id": "4f121a82-82a6-4565-b90a-4ea1074b7256",
   "metadata": {},
   "outputs": [],
   "source": [
    "!cythonize -b -i integrate_f_cy.pyx"
   ]
  },
  {
   "cell_type": "code",
   "execution_count": null,
   "id": "83b6509f-b514-4ca2-9272-95ecc8f4a296",
   "metadata": {},
   "outputs": [],
   "source": [
    "!ls "
   ]
  },
  {
   "cell_type": "code",
   "execution_count": null,
   "id": "997895ab-5348-4e56-b930-69bce9a6cf8e",
   "metadata": {},
   "outputs": [],
   "source": [
    "!cp build/lib.macosx-10.9-x86_64-cpython-310/integrate_f_cy.cpython-310-darwin.so ./"
   ]
  },
  {
   "cell_type": "code",
   "execution_count": null,
   "id": "38376f98-7c05-4434-a95f-6e6a02616201",
   "metadata": {},
   "outputs": [],
   "source": [
    "from integrate_f_cy import integrate_f_py as cy_integrate"
   ]
  },
  {
   "cell_type": "code",
   "execution_count": null,
   "id": "c667a72f-49cc-4424-9c90-6b8e30c813a8",
   "metadata": {},
   "outputs": [],
   "source": [
    "ls exemple-cython/"
   ]
  },
  {
   "cell_type": "markdown",
   "id": "618b0a3b-624b-4d93-9081-014fcda37e72",
   "metadata": {},
   "source": [
    "---\n",
    "## Numba\n",
    "<img src=\"images/numba.png\" alt=\"Numba\" width=\"200\"/>"
   ]
  },
  {
   "cell_type": "code",
   "execution_count": null,
   "id": "d44d20cf-6fae-492d-9020-d3d613eca762",
   "metadata": {},
   "outputs": [],
   "source": [
    "def f(x):\n",
    "    return -4 * x**3 + 3 * x**2 + 2*x\n",
    "\n",
    "def integrate_f_py(a, b, N):\n",
    "    s  = 0\n",
    "    dx = (b - a) / (N - 1)\n",
    "    # mauvaise boucle\n",
    "    for i in range(N - 1): \n",
    "        x = a + i * dx\n",
    "        s += (f(x) + f(x + dx)) / 2\n",
    "    return s * dx"
   ]
  },
  {
   "cell_type": "code",
   "execution_count": null,
   "id": "fb84cb43-c9f4-4ae0-a20a-9987e332cdae",
   "metadata": {},
   "outputs": [],
   "source": [
    "%timeit integrate_f_py(-1,1,10000)"
   ]
  },
  {
   "cell_type": "code",
   "execution_count": null,
   "id": "64a815fb-8a28-4df2-b15a-c91ec01bbf00",
   "metadata": {},
   "outputs": [],
   "source": [
    "from numba import jit,njit"
   ]
  },
  {
   "cell_type": "code",
   "execution_count": null,
   "id": "67a702b4-f6f6-41e8-9785-0f69dcf46e3f",
   "metadata": {},
   "outputs": [],
   "source": [
    "@njit\n",
    "def f_jit(x):\n",
    "    return -4 * x**3 + 3 * x**2 + 2*x"
   ]
  },
  {
   "cell_type": "code",
   "execution_count": null,
   "id": "967cba29-25a1-45ff-8ddb-8e2740630173",
   "metadata": {},
   "outputs": [],
   "source": [
    "def integrate_f_jit(a, b, N):\n",
    "    s  = 0\n",
    "    dx = (b - a) / (N - 1)\n",
    "    # mauvaise boucle\n",
    "    for i in range(N - 1): \n",
    "        x = a + i * dx\n",
    "        s += (f_jit(x) + f_jit(x + dx)) / 2\n",
    "    return s * dx"
   ]
  },
  {
   "cell_type": "code",
   "execution_count": null,
   "id": "2178128c-9a6f-479a-94a7-d57415442e51",
   "metadata": {},
   "outputs": [],
   "source": [
    "integrate_f_jit(-1,1,10000)"
   ]
  },
  {
   "cell_type": "code",
   "execution_count": null,
   "id": "8f20f813-979f-4d77-911b-18eacddae76e",
   "metadata": {},
   "outputs": [],
   "source": [
    "%timeit integrate_f_jit(-1,1,10000)"
   ]
  },
  {
   "cell_type": "code",
   "execution_count": null,
   "id": "752090f2-cf18-4471-b9cb-bd8d201b9d38",
   "metadata": {},
   "outputs": [],
   "source": [
    "@njit\n",
    "def integrate_f_jit(a, b, N):\n",
    "    s  = 0\n",
    "    dx = (b - a) / (N - 1)\n",
    "    # mauvaise boucle\n",
    "    for i in range(N - 1): \n",
    "        x = a + i * dx\n",
    "        s += (f_jit(x) + f_jit(x + dx)) / 2\n",
    "    return s * dx"
   ]
  },
  {
   "cell_type": "code",
   "execution_count": null,
   "id": "5dd90d47-d6dd-4eb0-93d6-f4ce2594a0f1",
   "metadata": {},
   "outputs": [],
   "source": [
    "integrate_f_jit(-1,1,10000)"
   ]
  },
  {
   "cell_type": "code",
   "execution_count": null,
   "id": "cce75815-0f31-4979-9a35-26807c551ca1",
   "metadata": {},
   "outputs": [],
   "source": [
    "%timeit integrate_f_jit(-1,1,10000)"
   ]
  },
  {
   "cell_type": "code",
   "execution_count": null,
   "id": "dc5dd833-8fb3-41af-9dea-a450cc084c31",
   "metadata": {},
   "outputs": [],
   "source": [
    "%timeit integrate_f_jit.py_func(-1,1,10000)"
   ]
  },
  {
   "cell_type": "markdown",
   "id": "25cfc245-ff5f-4cfe-8307-916ef8a1e20d",
   "metadata": {},
   "source": [
    "---\n",
    "# Multithreading\n",
    "<img src=\"images/multithread.png\" alt=\"multithreading\" width=\"200\"/>"
   ]
  },
  {
   "cell_type": "code",
   "execution_count": null,
   "id": "493c24f6-2f18-4beb-b5dc-7322b361b6e3",
   "metadata": {},
   "outputs": [],
   "source": [
    "def create_list(n):\n",
    "    res = []\n",
    "    for i in range(n):\n",
    "        res.append(i)\n",
    "    return res"
   ]
  },
  {
   "cell_type": "code",
   "execution_count": null,
   "id": "a4508412-93d2-4e2f-93c1-40672a368792",
   "metadata": {},
   "outputs": [],
   "source": [
    "size = 100000\n",
    "%timeit create_list(size)"
   ]
  },
  {
   "cell_type": "code",
   "execution_count": null,
   "id": "51e3d2c4-b0c6-4267-8493-9b23dd13a386",
   "metadata": {},
   "outputs": [],
   "source": [
    "from concurrent.futures import ThreadPoolExecutor"
   ]
  },
  {
   "cell_type": "code",
   "execution_count": null,
   "id": "713aa447-3e48-4dd2-a4dd-24c70c3564b7",
   "metadata": {},
   "outputs": [],
   "source": [
    "t_exe = ThreadPoolExecutor(4)"
   ]
  },
  {
   "cell_type": "code",
   "execution_count": null,
   "id": "05022770-b13d-4989-afce-9691e13ebf85",
   "metadata": {},
   "outputs": [],
   "source": [
    "lt = [res for res in t_exe.map(create_list, [size, size])]"
   ]
  },
  {
   "cell_type": "code",
   "execution_count": null,
   "id": "aa2c48c9-e65e-4e99-b1ef-6f36789daf4d",
   "metadata": {},
   "outputs": [],
   "source": [
    "lt = [res for res in t_exe.map(create_list, [size, size])]"
   ]
  },
  {
   "cell_type": "code",
   "execution_count": null,
   "id": "aa6517d2-4406-4a21-9af6-4cee85333ff0",
   "metadata": {},
   "outputs": [],
   "source": [
    "%time lt = [res for res in t_exe.map(create_list, [size, size])]"
   ]
  },
  {
   "cell_type": "code",
   "execution_count": null,
   "id": "102ad84f-d5a3-438e-8cc5-4504aa46a31b",
   "metadata": {},
   "outputs": [],
   "source": [
    "%time lnt = [res for res in map(create_list, [size, size])]"
   ]
  },
  {
   "cell_type": "code",
   "execution_count": null,
   "id": "12f0f877-18d9-4a5c-9bb3-32eb6be83e7f",
   "metadata": {},
   "outputs": [],
   "source": [
    "import time\n",
    "def attendre(t=0.009):\n",
    "    time.sleep(t)\n",
    "    return None"
   ]
  },
  {
   "cell_type": "code",
   "execution_count": null,
   "id": "bcd69765-57a9-4015-9254-5e9c4e271283",
   "metadata": {},
   "outputs": [],
   "source": [
    "%time attendre(10)"
   ]
  },
  {
   "cell_type": "code",
   "execution_count": null,
   "id": "23d65cba-c0b2-489e-a19e-86263a372eac",
   "metadata": {},
   "outputs": [],
   "source": [
    "%time for res in t_exe.map(attendre,[10, 10]) : pass"
   ]
  },
  {
   "cell_type": "code",
   "execution_count": null,
   "id": "321b0225-3b8f-45b3-a56c-473a217b52b9",
   "metadata": {},
   "outputs": [],
   "source": [
    "import math\n",
    "def is_prime(n):\n",
    "    if n < 2:\n",
    "        return False\n",
    "    sqrt_n = int(math.floor(math.sqrt(n)))\n",
    "    for i in range(2, sqrt_n + 1):\n",
    "        if n % i == 0:\n",
    "            return False\n",
    "    return True"
   ]
  },
  {
   "cell_type": "code",
   "execution_count": null,
   "id": "f784fd1b-6d2d-4f06-a5df-686b6c63d6c1",
   "metadata": {},
   "outputs": [],
   "source": [
    "primes = [112272535095293 + i for i in range(0,1000)]"
   ]
  },
  {
   "cell_type": "code",
   "execution_count": null,
   "id": "39d26808-037b-4070-9be7-edc1254af286",
   "metadata": {},
   "outputs": [],
   "source": [
    "%time is_prime_jit(112272535095293)"
   ]
  },
  {
   "cell_type": "code",
   "execution_count": null,
   "id": "7b2a4675-1ae5-4d71-a868-5002e6218b2a",
   "metadata": {},
   "outputs": [],
   "source": [
    "%time l0 = [res for res in map(is_prime,primes[0:100])]"
   ]
  },
  {
   "cell_type": "code",
   "execution_count": null,
   "id": "e83c5e3f-97b3-43d8-acc2-63b70c51a548",
   "metadata": {},
   "outputs": [],
   "source": [
    "%time lt = [res for res in t_exe.map(is_prime, primes[0:100])]"
   ]
  },
  {
   "cell_type": "markdown",
   "id": "d42e3449-0324-47f4-a4b8-871c4b4abfb5",
   "metadata": {},
   "source": [
    "## Numba nogil"
   ]
  },
  {
   "cell_type": "code",
   "execution_count": null,
   "id": "b1c281d0-ecb8-4e43-93f4-cc220a860a20",
   "metadata": {},
   "outputs": [],
   "source": [
    "@njit\n",
    "def is_prime_jit(n):\n",
    "    if n < 2:\n",
    "        return False\n",
    "    sqrt_n = int(math.floor(math.sqrt(n)))\n",
    "    for i in range(2, sqrt_n + 1):\n",
    "        if n % i == 0:\n",
    "            return False\n",
    "    return True"
   ]
  },
  {
   "cell_type": "code",
   "execution_count": null,
   "id": "7cb2c1c6-084d-48ab-9431-c16cf5e1e553",
   "metadata": {},
   "outputs": [],
   "source": [
    "is_prime_jit(3)"
   ]
  },
  {
   "cell_type": "code",
   "execution_count": null,
   "id": "f58f48f8-27a3-4162-9f06-6ac22667be9e",
   "metadata": {},
   "outputs": [],
   "source": [
    "%time lnt = [res for res in map(is_prime_jit,primes[0:1000])]"
   ]
  },
  {
   "cell_type": "code",
   "execution_count": null,
   "id": "a2827a5b-ba74-4350-96ef-5e79918a3d7b",
   "metadata": {},
   "outputs": [],
   "source": [
    "%time lnt = [res for res in t_exe.map(is_prime_jit, primes[0:1000])]"
   ]
  },
  {
   "cell_type": "code",
   "execution_count": null,
   "id": "cda78699-2cfa-4ffa-bbc8-e9906d41e9d0",
   "metadata": {},
   "outputs": [],
   "source": [
    "@njit(nogil = True)\n",
    "def is_prime_nogil(n):\n",
    "    if n < 2:\n",
    "        return False\n",
    "    sqrt_n = int(math.floor(math.sqrt(n)))\n",
    "    for i in range(2, sqrt_n + 1):\n",
    "        if n % i == 0:\n",
    "            return False\n",
    "    return True"
   ]
  },
  {
   "cell_type": "code",
   "execution_count": null,
   "id": "62e03e32-e006-445c-af8f-a9932c1e54a6",
   "metadata": {},
   "outputs": [],
   "source": [
    "is_prime_nogil(3)"
   ]
  },
  {
   "cell_type": "code",
   "execution_count": null,
   "id": "0ed0a66d-3fa0-4a71-8074-f40a302d2b45",
   "metadata": {},
   "outputs": [],
   "source": [
    "%time ltng = [res for res in t_exe.map(is_prime_nogil, primes[0:1000])]"
   ]
  }
 ],
 "metadata": {
  "kernelspec": {
   "display_name": "Python 3 (ipykernel)",
   "language": "python",
   "name": "python3"
  },
  "language_info": {
   "codemirror_mode": {
    "name": "ipython",
    "version": 3
   },
   "file_extension": ".py",
   "mimetype": "text/x-python",
   "name": "python",
   "nbconvert_exporter": "python",
   "pygments_lexer": "ipython3",
   "version": "3.10.4"
  }
 },
 "nbformat": 4,
 "nbformat_minor": 5
}
